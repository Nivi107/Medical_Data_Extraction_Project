{
 "cells": [
  {
   "cell_type": "code",
   "execution_count": 28,
   "id": "ae2d8ecd",
   "metadata": {},
   "outputs": [],
   "source": [
    "from pdf2image import convert_from_path"
   ]
  },
  {
   "cell_type": "code",
   "execution_count": 44,
   "id": "cec31dfa",
   "metadata": {},
   "outputs": [],
   "source": [
    "pages = convert_from_path(r'docs\\patient_details\\pd_2.pdf',poppler_path=r'C:\\poppler-24.02.0\\Library\\bin')\n",
    "pages[0].show()"
   ]
  },
  {
   "cell_type": "code",
   "execution_count": 30,
   "id": "f3ca192f",
   "metadata": {},
   "outputs": [],
   "source": [
    "import pytesseract"
   ]
  },
  {
   "cell_type": "code",
   "execution_count": 45,
   "id": "180ffb3c",
   "metadata": {},
   "outputs": [],
   "source": [
    "pytesseract.pytesseract.tesseract_cmd=r\"C:\\Program Files\\Tesseract-OCR\\tesseract.exe\""
   ]
  },
  {
   "cell_type": "code",
   "execution_count": 46,
   "id": "f84e7127",
   "metadata": {},
   "outputs": [],
   "source": [
    "pages[0].show()"
   ]
  },
  {
   "cell_type": "code",
   "execution_count": 47,
   "id": "11ca6803",
   "metadata": {},
   "outputs": [
    {
     "name": "stdout",
     "output_type": "stream",
     "text": [
      "a\n",
      "\n",
      "Patient Medical Record\n",
      "\n",
      "Patient Information\n",
      "Jerry Lucas\n",
      "\n",
      "(279) 920-8204\n",
      "4218 Wheeler Ridge Dr\n",
      "\n",
      "Buffalo, New York, 14201\n",
      "United States\n",
      "\n",
      "In Case of Emergency\n",
      "\n",
      "Birth Date\n",
      "May 2 1998\n",
      "\n",
      "Weight:\n",
      "57\n",
      "\n",
      "Height:\n",
      "170\n",
      "\n",
      "Joe Lucas\n",
      "\n",
      "Home phone\n",
      "\n",
      "General Medical History\n",
      "\n",
      "4218 Wheeler Ridge Dr\n",
      "Buffalo, New York, 14201\n",
      "United States\n",
      "\n",
      "Work phone\n",
      "\n",
      "Chicken Pox (Varicelia):\n",
      "\n",
      "IMMUNE\n",
      "\n",
      "Have you had the Hepatitis B vaccination?\n",
      "\n",
      "Measles:\n",
      "\n",
      "NOT IMMUNE\n",
      "\n",
      "any Medical Problems (asthma, seizures, headaches):\n"
     ]
    }
   ],
   "source": [
    "text = pytesseract.image_to_string(pages[0],lang='eng')\n",
    "print(text)"
   ]
  },
  {
   "cell_type": "code",
   "execution_count": 48,
   "id": "8dc319dd",
   "metadata": {},
   "outputs": [],
   "source": [
    "import numpy as np\n",
    "import cv2\n",
    "from PIL import Image"
   ]
  },
  {
   "cell_type": "code",
   "execution_count": 49,
   "id": "abc3101e",
   "metadata": {},
   "outputs": [],
   "source": [
    "def preprocess_image(img):\n",
    "    gray = cv2.cvtColor(np.array(img), cv2.COLOR_BGR2GRAY)\n",
    "    resized = cv2.resize(gray, None, fx=1.5, fy=1.5, interpolation=cv2.INTER_LINEAR)\n",
    "    processed_image = cv2.adaptiveThreshold(\n",
    "        resized,\n",
    "        255,\n",
    "        cv2.ADAPTIVE_THRESH_GAUSSIAN_C, \n",
    "        cv2.THRESH_BINARY, \n",
    "        61,\n",
    "        11\n",
    "    )\n",
    "    return processed_image"
   ]
  },
  {
   "cell_type": "code",
   "execution_count": 50,
   "id": "5f133583",
   "metadata": {},
   "outputs": [],
   "source": [
    "img = preprocess_image(pages[0])\n",
    "Image.fromarray(img).show()"
   ]
  },
  {
   "cell_type": "code",
   "execution_count": 51,
   "id": "2520fe1c",
   "metadata": {},
   "outputs": [
    {
     "name": "stdout",
     "output_type": "stream",
     "text": [
      "Patient Medical Record\n",
      "\n",
      "Patient Information Birth Date\n",
      "\n",
      "Jerry Lucas May 2 1998\n",
      "\n",
      "(279) 920-8204 Weight:\n",
      "\n",
      "4218 Wheeler Ridge Dr 57\n",
      "\n",
      "Buffalo, New York, 14201 Height:\n",
      "\n",
      "United States gnt\n",
      "170\n",
      "\n",
      "In Case of Emergency\n",
      "\n",
      "eee\n",
      "\n",
      "Joe Lucas . 4218 Wheeler Ridge Dr\n",
      "Buffalo, New York, 14201\n",
      "Home phone United States\n",
      "Work phone\n",
      "\n",
      "General Medical History\n",
      "\n",
      "Chicken Pox (Varicelia): Measles: ..\n",
      "\n",
      "IMMUNE NOT IMMUNE\n",
      "\n",
      "Have you had the Hepatitis B vaccination?\n",
      "\n",
      "‘Yes\n",
      "\n",
      "| List any Medical Problems (asthma, seizures, headaches):\n",
      "N/A\n",
      "\n",
      "7?\n",
      "v\n",
      "\n",
      "17/12/2020\n"
     ]
    }
   ],
   "source": [
    "pytesseract.pytesseract.tesseract_cmd=r'C:\\Program Files\\Tesseract-OCR\\tesseract.exe'\n",
    "text = pytesseract.image_to_string(img, lang='eng')\n",
    "print(text)"
   ]
  },
  {
   "cell_type": "code",
   "execution_count": 40,
   "id": "fb0b46f2",
   "metadata": {},
   "outputs": [],
   "source": [
    "text = '''Patient Medical Record\n",
    "\n",
    "Patient Information Birth Date\n",
    "\n",
    "Jerry Lucas May 2 1998\n",
    "\n",
    "(279) 920-8204 Weight:\n",
    "\n",
    "4218 Wheeler Ridge Dr 57\n",
    "\n",
    "Buffalo, New York, 14201 Height:\n",
    "\n",
    "United States gnt\n",
    "170\n",
    "\n",
    "In Case of Emergency\n",
    "\n",
    "eee\n",
    "\n",
    "Joe Lucas . 4218 Wheeler Ridge Dr\n",
    "Buffalo, New York, 14201\n",
    "Home phone United States\n",
    "Work phone\n",
    "\n",
    "General Medical History\n",
    "\n",
    "Chicken Pox (Varicelia): Measles: ..\n",
    "\n",
    "IMMUNE NOT IMMUNE\n",
    "\n",
    "Have you had the Hepatitis B vaccination?\n",
    "\n",
    "‘Yes\n",
    "\n",
    "| List any Medical Problems (asthma, seizures, headaches):\n",
    "N/A\n",
    "'''"
   ]
  },
  {
   "cell_type": "markdown",
   "id": "64966108",
   "metadata": {},
   "source": [
    "**Extract patient name**"
   ]
  },
  {
   "cell_type": "code",
   "execution_count": 43,
   "id": "2ae48f2b",
   "metadata": {},
   "outputs": [
    {
     "data": {
      "text/plain": [
       "'Jerry Lucas May 2 1998'"
      ]
     },
     "execution_count": 43,
     "metadata": {},
     "output_type": "execute_result"
    }
   ],
   "source": [
    "import re\n",
    "\n",
    "pattern = 'Birth Date(.*?)\\(\\d{3}\\)'\n",
    "\n",
    "matches = re.findall(pattern, text,flags=re.DOTALL)\n",
    "\n",
    "matches[0].strip()"
   ]
  },
  {
   "cell_type": "code",
   "execution_count": null,
   "id": "c84e6002",
   "metadata": {},
   "outputs": [],
   "source": [
    "date_pattern = '((Jan|Feb|March|April|May|June|July|Aug|Sep|Oct|Nov|Dec)[ \\d]+)'\n",
    "date_matches = re.findall(date_pattern, match)\n",
    "date = date_matches[0][0]"
   ]
  },
  {
   "cell_type": "code",
   "execution_count": null,
   "id": "70830673",
   "metadata": {},
   "outputs": [],
   "source": [
    "name = match.replace(date,\" \").strip()\n",
    "name"
   ]
  },
  {
   "cell_type": "code",
   "execution_count": null,
   "id": "2b4297d0",
   "metadata": {},
   "outputs": [],
   "source": [
    "def remove_noise_from_name(name):\n",
    "    date_pattern = '((Jan|Feb|March|April|May|June|July|Aug|Sep|Oct|Nov|Dec)[ \\d]+)'\n",
    "    date_matches = re.findall(date_pattern, name)\n",
    "    if date_matches:\n",
    "        date = date_matches[0][0]\n",
    "        name = match.replace(date,\" \").strip()\n",
    "    return name\n",
    "\n",
    "        \n",
    "    "
   ]
  },
  {
   "cell_type": "code",
   "execution_count": null,
   "id": "7f4d3b0d",
   "metadata": {},
   "outputs": [],
   "source": [
    "name = remove_noise_from_name(match)\n",
    "print(name)"
   ]
  },
  {
   "cell_type": "markdown",
   "id": "6307745d",
   "metadata": {},
   "source": [
    "**Extract phone number**"
   ]
  },
  {
   "cell_type": "code",
   "execution_count": null,
   "id": "077b0d11",
   "metadata": {},
   "outputs": [],
   "source": [
    "pattern = 'Patient Information(.*?)(\\(\\d{3}\\) \\d{3}-\\d{4})'\n",
    "matches = re.findall(pattern, text, flags=re.DOTALL)\n",
    "matches[0][-1].strip()"
   ]
  },
  {
   "cell_type": "markdown",
   "id": "5f031a43",
   "metadata": {},
   "source": [
    "**Extract Vaccine**"
   ]
  },
  {
   "cell_type": "code",
   "execution_count": null,
   "id": "60e60d43",
   "metadata": {},
   "outputs": [],
   "source": [
    "pattern = 'Have you had the Hepatitis B vaccination\\?.*(Yes|No)'\n",
    "matches = re.findall(pattern, text, flags=re.DOTALL)\n",
    "matches[0].strip()"
   ]
  },
  {
   "cell_type": "markdown",
   "id": "3545efec",
   "metadata": {},
   "source": [
    "**Extract medical problems**"
   ]
  },
  {
   "cell_type": "code",
   "execution_count": null,
   "id": "89d49bf1",
   "metadata": {},
   "outputs": [],
   "source": [
    "pattern = 'List any Medical Problems .*:(.*)'\n",
    "matches = re.findall(pattern, text, flags=re.DOTALL)\n",
    "matches[0].strip()"
   ]
  },
  {
   "cell_type": "code",
   "execution_count": null,
   "id": "bf40377d",
   "metadata": {},
   "outputs": [],
   "source": []
  }
 ],
 "metadata": {
  "kernelspec": {
   "display_name": "Python 3 (ipykernel)",
   "language": "python",
   "name": "python3"
  },
  "language_info": {
   "codemirror_mode": {
    "name": "ipython",
    "version": 3
   },
   "file_extension": ".py",
   "mimetype": "text/x-python",
   "name": "python",
   "nbconvert_exporter": "python",
   "pygments_lexer": "ipython3",
   "version": "3.8.10"
  }
 },
 "nbformat": 4,
 "nbformat_minor": 5
}
