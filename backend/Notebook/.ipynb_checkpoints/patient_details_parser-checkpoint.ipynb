{
 "cells": [
  {
   "cell_type": "code",
   "execution_count": 19,
   "id": "ae2d8ecd",
   "metadata": {},
   "outputs": [],
   "source": [
    "from pdf2image import convert_from_path"
   ]
  },
  {
   "cell_type": "code",
   "execution_count": 20,
   "id": "cec31dfa",
   "metadata": {},
   "outputs": [],
   "source": [
    "pages = convert_from_path(r'docs\\patient_details\\pd_2.pdf',poppler_path=r'C:\\poppler-24.02.0\\Library\\bin')\n",
    "pages[0].show()"
   ]
  },
  {
   "cell_type": "code",
   "execution_count": 21,
   "id": "f3ca192f",
   "metadata": {},
   "outputs": [],
   "source": [
    "import pytesseract"
   ]
  },
  {
   "cell_type": "code",
   "execution_count": 22,
   "id": "180ffb3c",
   "metadata": {},
   "outputs": [],
   "source": [
    "pytesseract.pytesseract.tesseract_cmd=r\"C:\\Program Files\\Tesseract-OCR\\tesseract.exe\""
   ]
  },
  {
   "cell_type": "code",
   "execution_count": 5,
   "id": "f84e7127",
   "metadata": {},
   "outputs": [],
   "source": [
    "pages[0].show()"
   ]
  },
  {
   "cell_type": "code",
   "execution_count": 23,
   "id": "11ca6803",
   "metadata": {},
   "outputs": [],
   "source": [
    "text = pytesseract.image_to_string(pages[0],lang='eng')\n",
    "print(text)"
   ]
  },
  {
   "cell_type": "code",
   "execution_count": 24,
   "id": "8dc319dd",
   "metadata": {},
   "outputs": [],
   "source": [
    "import numpy as np\n",
    "import cv2\n",
    "from PIL import Image"
   ]
  },
  {
   "cell_type": "code",
   "execution_count": 25,
   "id": "abc3101e",
   "metadata": {},
   "outputs": [],
   "source": [
    "def preprocess_image(img):\n",
    "    gray = cv2.cvtColor(np.array(img), cv2.COLOR_BGR2GRAY)\n",
    "    resized = cv2.resize(gray, None, fx=1.5, fy=1.5, interpolation=cv2.INTER_LINEAR)\n",
    "    processed_image = cv2.adaptiveThreshold(\n",
    "        resized,\n",
    "        255,\n",
    "        cv2.ADAPTIVE_THRESH_GAUSSIAN_C, \n",
    "        cv2.THRESH_BINARY, \n",
    "        61,\n",
    "        11\n",
    "    )\n",
    "    return processed_image"
   ]
  },
  {
   "cell_type": "code",
   "execution_count": 26,
   "id": "5f133583",
   "metadata": {},
   "outputs": [],
   "source": [
    "img = preprocess_image(pages[0])\n",
    "Image.fromarray(img).show()"
   ]
  },
  {
   "cell_type": "code",
   "execution_count": 27,
   "id": "2520fe1c",
   "metadata": {},
   "outputs": [],
   "source": [
    "pytesseract.pytesseract.tesseract_cmd=r'C:\\Program Files\\Tesseract-OCR\\tesseract.exe'\n",
    "text = pytesseract.image_to_string(img, lang='eng')\n",
    "text"
   ]
  },
  {
   "cell_type": "code",
   "execution_count": 11,
   "id": "fb0b46f2",
   "metadata": {},
   "outputs": [],
   "source": [
    "text = '''17/12/2020\n",
    "\n",
    "Patient Medical Record\n",
    "\n",
    "Patient Information Birth Date\n",
    "Kathy Crawford May 6 1972\n",
    "(737) 988-0851 Weight’\n",
    "9264 Ash Dr 95\n",
    "New York City, 10005 .\n",
    "United States Height:\n",
    "190\n",
    "In Case of Emergency\n",
    "7 ee\n",
    "Simeone Crawford 9266 Ash Dr\n",
    "New York City, New York, 10005\n",
    "Home phone United States\n",
    "(990) 375-4621\n",
    "Work phone\n",
    "\n",
    "General Medical History\n",
    "\n",
    "Chicken Pox (Varicella): Measies:\n",
    "\n",
    "IMMUNE IMMUNE\n",
    "\n",
    "Have you had the Hepatitis B vaccination?\n",
    "No\n",
    "\n",
    "List any Medical Problems (asthma, seizures, headaches}:\n",
    "\n",
    "Migraine\n",
    "'''"
   ]
  },
  {
   "cell_type": "markdown",
   "id": "64966108",
   "metadata": {},
   "source": [
    "**Extract patient name**"
   ]
  },
  {
   "cell_type": "code",
   "execution_count": 12,
   "id": "2ae48f2b",
   "metadata": {},
   "outputs": [],
   "source": [
    "import re\n",
    "\n",
    "pattern = 'Birth Date(.*?)\\(\\d{3}\\)'\n",
    "\n",
    "matches = re.findall(pattern, text,flags=re.DOTALL)\n",
    "\n",
    "match"
   ]
  },
  {
   "cell_type": "code",
   "execution_count": null,
   "id": "c84e6002",
   "metadata": {},
   "outputs": [],
   "source": [
    "date_pattern = '((Jan|Feb|March|April|May|June|July|Aug|Sep|Oct|Nov|Dec)[ \\d]+)'\n",
    "date_matches = re.findall(date_pattern, match)\n",
    "date = date_matches[0][0]"
   ]
  },
  {
   "cell_type": "code",
   "execution_count": null,
   "id": "70830673",
   "metadata": {},
   "outputs": [],
   "source": [
    "name = match.replace(date,\" \").strip()\n",
    "name"
   ]
  },
  {
   "cell_type": "code",
   "execution_count": null,
   "id": "2b4297d0",
   "metadata": {},
   "outputs": [],
   "source": [
    "def remove_noise_from_name(name):\n",
    "    date_pattern = '((Jan|Feb|March|April|May|June|July|Aug|Sep|Oct|Nov|Dec)[ \\d]+)'\n",
    "    date_matches = re.findall(date_pattern, name)\n",
    "    if date_matches:\n",
    "        date = date_matches[0][0]\n",
    "        name = match.replace(date,\" \").strip()\n",
    "    return name\n",
    "\n",
    "        \n",
    "    "
   ]
  },
  {
   "cell_type": "code",
   "execution_count": null,
   "id": "7f4d3b0d",
   "metadata": {},
   "outputs": [],
   "source": [
    "name = remove_noise_from_name(match)\n",
    "print(name)"
   ]
  },
  {
   "cell_type": "markdown",
   "id": "6307745d",
   "metadata": {},
   "source": [
    "**Extract phone number**"
   ]
  },
  {
   "cell_type": "code",
   "execution_count": null,
   "id": "077b0d11",
   "metadata": {},
   "outputs": [],
   "source": [
    "pattern = 'Patient Information(.*?)(\\(\\d{3}\\) \\d{3}-\\d{4})'\n",
    "matches = re.findall(pattern, text, flags=re.DOTALL)\n",
    "matches[0][-1].strip()"
   ]
  },
  {
   "cell_type": "markdown",
   "id": "5f031a43",
   "metadata": {},
   "source": [
    "**Extract Vaccine**"
   ]
  },
  {
   "cell_type": "code",
   "execution_count": null,
   "id": "60e60d43",
   "metadata": {},
   "outputs": [],
   "source": [
    "pattern = 'Have you had the Hepatitis B vaccination\\?.*(Yes|No)'\n",
    "matches = re.findall(pattern, text, flags=re.DOTALL)\n",
    "matches[0].strip()"
   ]
  },
  {
   "cell_type": "markdown",
   "id": "3545efec",
   "metadata": {},
   "source": [
    "**Extract medical problems**"
   ]
  },
  {
   "cell_type": "code",
   "execution_count": null,
   "id": "89d49bf1",
   "metadata": {},
   "outputs": [],
   "source": [
    "pattern = 'List any Medical Problems .*:(.*)'\n",
    "matches = re.findall(pattern, text, flags=re.DOTALL)\n",
    "matches[0].strip()"
   ]
  },
  {
   "cell_type": "code",
   "execution_count": null,
   "id": "bf40377d",
   "metadata": {},
   "outputs": [],
   "source": []
  }
 ],
 "metadata": {
  "kernelspec": {
   "display_name": "Python 3 (ipykernel)",
   "language": "python",
   "name": "python3"
  },
  "language_info": {
   "codemirror_mode": {
    "name": "ipython",
    "version": 3
   },
   "file_extension": ".py",
   "mimetype": "text/x-python",
   "name": "python",
   "nbconvert_exporter": "python",
   "pygments_lexer": "ipython3",
   "version": "3.8.10"
  }
 },
 "nbformat": 4,
 "nbformat_minor": 5
}
