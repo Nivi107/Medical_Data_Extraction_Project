{
 "cells": [
  {
   "cell_type": "markdown",
   "id": "5f05159d",
   "metadata": {},
   "source": [
    "**Simple Thresholding**"
   ]
  },
  {
   "cell_type": "code",
   "execution_count": 11,
   "id": "3427f62c",
   "metadata": {},
   "outputs": [],
   "source": [
    "import cv2\n",
    "from PIL import Image"
   ]
  },
  {
   "cell_type": "code",
   "execution_count": 19,
   "id": "5b3d813c",
   "metadata": {},
   "outputs": [
    {
     "name": "stdout",
     "output_type": "stream",
     "text": [
      "[[206 206 206 ... 187 186 184]\n",
      " [206 206 206 ... 186 185 185]\n",
      " [206 206 206 ... 186 185 185]\n",
      " ...\n",
      " [162 157 152 ... 184 184 184]\n",
      " [160 156 152 ... 184 184 184]\n",
      " [156 158 158 ... 184 184 184]]\n"
     ]
    }
   ],
   "source": [
    "img = cv2.imread('dark_image.jpg',flags=cv2.IMREAD_GRAYSCALE)\n",
    "print(img)"
   ]
  },
  {
   "cell_type": "code",
   "execution_count": 20,
   "id": "79b77b15",
   "metadata": {},
   "outputs": [],
   "source": [
    "_, new_img = cv2.threshold(img,170,255,cv2.THRESH_BINARY)\n",
    "Image.fromarray(new_img).show()"
   ]
  },
  {
   "cell_type": "markdown",
   "id": "56a33a1a",
   "metadata": {},
   "source": [
    "**Adaptive Thresholding**"
   ]
  },
  {
   "cell_type": "code",
   "execution_count": 21,
   "id": "304edd52",
   "metadata": {},
   "outputs": [],
   "source": [
    "new_img =  cv2.adaptiveThreshold(img,255,\n",
    "           cv2.ADAPTIVE_THRESH_GAUSSIAN_C,cv2.THRESH_BINARY,61,11)"
   ]
  },
  {
   "cell_type": "code",
   "execution_count": 22,
   "id": "b2cd1f59",
   "metadata": {},
   "outputs": [],
   "source": [
    "Image.fromarray(new_img).show()"
   ]
  },
  {
   "cell_type": "code",
   "execution_count": null,
   "id": "9ec7408e",
   "metadata": {},
   "outputs": [],
   "source": []
  }
 ],
 "metadata": {
  "kernelspec": {
   "display_name": "Python 3 (ipykernel)",
   "language": "python",
   "name": "python3"
  },
  "language_info": {
   "codemirror_mode": {
    "name": "ipython",
    "version": 3
   },
   "file_extension": ".py",
   "mimetype": "text/x-python",
   "name": "python",
   "nbconvert_exporter": "python",
   "pygments_lexer": "ipython3",
   "version": "3.8.10"
  }
 },
 "nbformat": 4,
 "nbformat_minor": 5
}
